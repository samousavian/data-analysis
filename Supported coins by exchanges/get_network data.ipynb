{
 "cells": [
  {
   "cell_type": "code",
   "execution_count": 6,
   "metadata": {},
   "outputs": [],
   "source": [
    "import pandas as pd\n",
    "import requests\n",
    "\n",
    "def get_crypto_data(symbol):\n",
    "    base_url = \"https://data-api.cryptocompare.com/asset/v1/data/by/symbol\"\n",
    "    params = {\"asset_symbol\": symbol}\n",
    "    response = requests.get(base_url, params=params)\n",
    "    return response.json()\n",
    "\n",
    "# Read the list of symbols from the file and strip newline characters\n",
    "with open('Nobitex/processed_crypto_pairs.txt', 'r') as file:\n",
    "    symbols = [line.strip() for line in file.readlines()]\n",
    "\n",
    "# Fetching platform data for each symbol\n",
    "platform_data = []\n",
    "for symbol in symbols:\n",
    "    response = get_crypto_data(symbol)\n",
    "    supported_platforms = response.get('Data', {}).get('SUPPORTED_PLATFORMS', [])\n",
    "    for platform in supported_platforms:\n",
    "        platform_data.append({\n",
    "            'Symbol': symbol,\n",
    "            **platform\n",
    "        })\n",
    "\n",
    "# Create DataFrame and remove duplicate rows\n",
    "df = pd.DataFrame(platform_data).drop_duplicates()\n",
    "\n",
    "# Write DataFrame to an Excel file\n",
    "df.to_excel('crypto_platform_data.xlsx', index=False)\n"
   ]
  }
 ],
 "metadata": {
  "kernelspec": {
   "display_name": ".venv",
   "language": "python",
   "name": "python3"
  },
  "language_info": {
   "codemirror_mode": {
    "name": "ipython",
    "version": 3
   },
   "file_extension": ".py",
   "mimetype": "text/x-python",
   "name": "python",
   "nbconvert_exporter": "python",
   "pygments_lexer": "ipython3",
   "version": "3.10.12"
  }
 },
 "nbformat": 4,
 "nbformat_minor": 2
}
