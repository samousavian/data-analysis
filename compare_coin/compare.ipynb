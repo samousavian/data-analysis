{
 "cells": [
  {
   "cell_type": "code",
   "execution_count": 12,
   "metadata": {},
   "outputs": [
    {
     "name": "stdout",
     "output_type": "stream",
     "text": [
      "Common Values: 31\n",
      "Uncommon Values: 19\n"
     ]
    }
   ],
   "source": [
    "import pandas as pd\n",
    "\n",
    "with open('list_coins.txt', 'r') as file:\n",
    "    symbols = [line.strip() for line in file.readlines()]\n",
    "\n",
    "# Convert all characters to uppercase\n",
    "lower_case_symbols = [item.lower() for item in symbols]\n",
    "\n",
    "df = pd.read_excel('crypto_platform_data.xlsx')\n",
    "\n",
    "# Find common values\n",
    "common_values = set(df['Symbol']).intersection(lower_case_symbols)\n",
    "\n",
    "# Find uncommon values\n",
    "# uncommon_values = set(df['Symbol']).symmetric_difference(lower_case_symbols)\n",
    "\n",
    "# Convert column values to uppercase and find values in list but not in the column\n",
    "column_values = set(df['Symbol'].astype(str))\n",
    "values_not_in_df = set(lower_case_symbols) - column_values\n",
    "\n",
    "# Print the results\n",
    "print(\"Common Values:\", len(common_values))\n",
    "print(\"Uncommon Values:\", len(values_not_in_df))"
   ]
  }
 ],
 "metadata": {
  "kernelspec": {
   "display_name": ".venv",
   "language": "python",
   "name": "python3"
  },
  "language_info": {
   "codemirror_mode": {
    "name": "ipython",
    "version": 3
   },
   "file_extension": ".py",
   "mimetype": "text/x-python",
   "name": "python",
   "nbconvert_exporter": "python",
   "pygments_lexer": "ipython3",
   "version": "3.10.12"
  }
 },
 "nbformat": 4,
 "nbformat_minor": 2
}
