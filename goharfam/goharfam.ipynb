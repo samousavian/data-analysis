{
 "cells": [
  {
   "cell_type": "code",
   "execution_count": 8,
   "metadata": {},
   "outputs": [],
   "source": [
    "import pandas as pd\n",
    "import re\n",
    "import os\n",
    "# from openpyxl import load_workbook\n",
    "# file_path = re.sub(r'^AC-?', '', product_code)"
   ]
  },
  {
   "cell_type": "code",
   "execution_count": 9,
   "metadata": {},
   "outputs": [],
   "source": [
    "# Specify the directory\n",
    "directory = \"data/formula/\"\n",
    "\n",
    "# List all files and directories in the specified directory\n",
    "files_and_dirs = os.listdir(directory)\n",
    "\n",
    "# If you only want files, not directories, you can filter the list\n",
    "files = [f for f in files_and_dirs if os.path.isfile(os.path.join(directory, f))]"
   ]
  },
  {
   "cell_type": "code",
   "execution_count": 10,
   "metadata": {},
   "outputs": [],
   "source": [
    "df_ref = pd.read_excel('data/01-refrence.xlsx')\n",
    "selected_columns = df_ref[['کد قدیم کالا', 'نام کالا']]\n",
    "\n",
    "# Converting the selected columns to a list of dictionaries\n",
    "list_of_dicts = selected_columns.to_dict(orient='records')\n",
    "\n",
    "# Extract codes from file names\n",
    "codes = [file.split('.')[0] for file in files]  # Removes the '.xls' part\n",
    "\n",
    "# Create a dictionary to map old-codes to نام کالا\n",
    "code_to_name_map = pd.Series(df_ref['نام کالا'].values, index=df_ref['کد قدیم کالا']).to_dict()\n",
    "\n",
    "# Find corresponding نام کالا for each code\n",
    "names = [code_to_name_map.get(code, 'Not Found') for code in codes]"
   ]
  },
  {
   "cell_type": "code",
   "execution_count": 11,
   "metadata": {},
   "outputs": [],
   "source": [
    "def convert_product(df_output, df_temp, product_code, product_name):\n",
    "    df_formula = pd.read_excel(f'data/formula/{product_code}.xls')\n",
    "    # Assuming df_formula is your DataFrame\n",
    "    total_sum = df_formula['درصد'].sum()\n",
    "\n",
    "    if total_sum != 100:\n",
    "        # Normalize the values to sum up to 100\n",
    "        df_formula['درصد'] = (df_formula['درصد'] / total_sum) * 100\n",
    "\n",
    "        # Round to 2 decimal places\n",
    "        df_formula['درصد'] = df_formula['درصد'].round(2)\n",
    "\n",
    "        # Adjust the last value to ensure the total sum is exactly 100\n",
    "        last_index = df_formula.columns.get_loc('درصد')\n",
    "        df_formula.iloc[-1, last_index] = 100 - df_formula.iloc[:-1, last_index].sum()\n",
    "\n",
    "        # Round the last element again to handle floating-point precision issues\n",
    "        df_formula.iloc[-1, last_index] = round(df_formula.iloc[-1, last_index], 2)\n",
    "\n",
    "    df_temp['کالای مصرفی'] = df_formula['کد ماده اولیه']\n",
    "    df_temp['ضریب مصرف استاندارد'] = df_formula['درصد']\n",
    "    df_temp['کد کالای محصول'] = product_code\n",
    "    df_temp['عنوان BOM'] = product_name\n",
    "    # Assuming df_output and df_temp are your DataFrames\n",
    "    # Remove columns that are completely empty or all NA from both DataFrames\n",
    "    df_output = df_output.dropna(axis=1, how='all')\n",
    "    df_temp = df_temp.dropna(axis=1, how='all')\n",
    "\n",
    "    # Now perform the concatenation\n",
    "    df_output = pd.concat([df_output, df_temp], ignore_index=True)\n",
    "    return df_output"
   ]
  },
  {
   "cell_type": "code",
   "execution_count": 12,
   "metadata": {},
   "outputs": [],
   "source": [
    "df_output = pd.DataFrame(columns=['کد کالای محصول', 'کالای مصرفی', 'ضریب مصرف استاندارد', 'عنوان BOM'])\n",
    "\n",
    "for i in range(len(names)):\n",
    "    df_temp = pd.DataFrame(columns=['کد کالای محصول', 'کالای مصرفی', 'ضریب مصرف استاندارد', 'عنوان BOM'])\n",
    "    product_code = codes[i]\n",
    "    product_name = names[i]\n",
    "    df_output = convert_product(df_output, df_temp, product_code, product_name)\n"
   ]
  },
  {
   "cell_type": "code",
   "execution_count": 13,
   "metadata": {},
   "outputs": [
    {
     "ename": "KeyError",
     "evalue": "'کالای مصرفی'",
     "output_type": "error",
     "traceback": [
      "\u001b[0;31m---------------------------------------------------------------------------\u001b[0m",
      "\u001b[0;31mKeyError\u001b[0m                                  Traceback (most recent call last)",
      "File \u001b[0;32m~/Desktop/git-repo/data-analysis/.venv/lib/python3.10/site-packages/pandas/core/indexes/base.py:3791\u001b[0m, in \u001b[0;36mIndex.get_loc\u001b[0;34m(self, key)\u001b[0m\n\u001b[1;32m   3790\u001b[0m \u001b[38;5;28;01mtry\u001b[39;00m:\n\u001b[0;32m-> 3791\u001b[0m     \u001b[38;5;28;01mreturn\u001b[39;00m \u001b[38;5;28;43mself\u001b[39;49m\u001b[38;5;241;43m.\u001b[39;49m\u001b[43m_engine\u001b[49m\u001b[38;5;241;43m.\u001b[39;49m\u001b[43mget_loc\u001b[49m\u001b[43m(\u001b[49m\u001b[43mcasted_key\u001b[49m\u001b[43m)\u001b[49m\n\u001b[1;32m   3792\u001b[0m \u001b[38;5;28;01mexcept\u001b[39;00m \u001b[38;5;167;01mKeyError\u001b[39;00m \u001b[38;5;28;01mas\u001b[39;00m err:\n",
      "File \u001b[0;32mindex.pyx:152\u001b[0m, in \u001b[0;36mpandas._libs.index.IndexEngine.get_loc\u001b[0;34m()\u001b[0m\n",
      "File \u001b[0;32mindex.pyx:181\u001b[0m, in \u001b[0;36mpandas._libs.index.IndexEngine.get_loc\u001b[0;34m()\u001b[0m\n",
      "File \u001b[0;32mpandas/_libs/hashtable_class_helper.pxi:7080\u001b[0m, in \u001b[0;36mpandas._libs.hashtable.PyObjectHashTable.get_item\u001b[0;34m()\u001b[0m\n",
      "File \u001b[0;32mpandas/_libs/hashtable_class_helper.pxi:7088\u001b[0m, in \u001b[0;36mpandas._libs.hashtable.PyObjectHashTable.get_item\u001b[0;34m()\u001b[0m\n",
      "\u001b[0;31mKeyError\u001b[0m: 'کالای مصرفی'",
      "\nThe above exception was the direct cause of the following exception:\n",
      "\u001b[0;31mKeyError\u001b[0m                                  Traceback (most recent call last)",
      "Cell \u001b[0;32mIn[13], line 12\u001b[0m\n\u001b[1;32m      5\u001b[0m \u001b[38;5;66;03m# # Perform the merge\u001b[39;00m\n\u001b[1;32m      6\u001b[0m \u001b[38;5;66;03m# df_output = pd.merge(df_output, df_alter[['main_code'] + columns_to_add], left_on='کالای مصرفی', right_on='main_code', how='left')\u001b[39;00m\n\u001b[1;32m      7\u001b[0m \n\u001b[1;32m      8\u001b[0m \u001b[38;5;66;03m# # Optionally, you can drop the 'main_code' column if it's not needed\u001b[39;00m\n\u001b[1;32m      9\u001b[0m \u001b[38;5;66;03m# df_output.drop(columns=['main_code'], inplace=True)\u001b[39;00m\n\u001b[1;32m     11\u001b[0m \u001b[38;5;28;01mfor\u001b[39;00m item \u001b[38;5;129;01min\u001b[39;00m df_output[\u001b[38;5;124m'\u001b[39m\u001b[38;5;124mکالای مصرفی\u001b[39m\u001b[38;5;124m'\u001b[39m]:\n\u001b[0;32m---> 12\u001b[0m     \u001b[38;5;28;01mif\u001b[39;00m item \u001b[38;5;129;01min\u001b[39;00m \u001b[43mdf_alter\u001b[49m\u001b[43m[\u001b[49m\u001b[38;5;124;43m'\u001b[39;49m\u001b[38;5;124;43mکالای مصرفی\u001b[39;49m\u001b[38;5;124;43m'\u001b[39;49m\u001b[43m]\u001b[49m\u001b[38;5;241m.\u001b[39mvalues:\n\u001b[1;32m     13\u001b[0m         matching_row \u001b[38;5;241m=\u001b[39m df_alter[df_alter[\u001b[38;5;124m'\u001b[39m\u001b[38;5;124mکالای مصرفی\u001b[39m\u001b[38;5;124m'\u001b[39m] \u001b[38;5;241m==\u001b[39m item][selected_columns]\n\u001b[1;32m     14\u001b[0m         df_output \u001b[38;5;241m=\u001b[39m pd\u001b[38;5;241m.\u001b[39mmerge(df_output, matching_row, left_on\u001b[38;5;241m=\u001b[39m\u001b[38;5;124m'\u001b[39m\u001b[38;5;124mکالای مصرفی\u001b[39m\u001b[38;5;124m'\u001b[39m, right_index\u001b[38;5;241m=\u001b[39m\u001b[38;5;28;01mTrue\u001b[39;00m, how\u001b[38;5;241m=\u001b[39m\u001b[38;5;124m'\u001b[39m\u001b[38;5;124mleft\u001b[39m\u001b[38;5;124m'\u001b[39m)\n",
      "File \u001b[0;32m~/Desktop/git-repo/data-analysis/.venv/lib/python3.10/site-packages/pandas/core/frame.py:3893\u001b[0m, in \u001b[0;36mDataFrame.__getitem__\u001b[0;34m(self, key)\u001b[0m\n\u001b[1;32m   3891\u001b[0m \u001b[38;5;28;01mif\u001b[39;00m \u001b[38;5;28mself\u001b[39m\u001b[38;5;241m.\u001b[39mcolumns\u001b[38;5;241m.\u001b[39mnlevels \u001b[38;5;241m>\u001b[39m \u001b[38;5;241m1\u001b[39m:\n\u001b[1;32m   3892\u001b[0m     \u001b[38;5;28;01mreturn\u001b[39;00m \u001b[38;5;28mself\u001b[39m\u001b[38;5;241m.\u001b[39m_getitem_multilevel(key)\n\u001b[0;32m-> 3893\u001b[0m indexer \u001b[38;5;241m=\u001b[39m \u001b[38;5;28;43mself\u001b[39;49m\u001b[38;5;241;43m.\u001b[39;49m\u001b[43mcolumns\u001b[49m\u001b[38;5;241;43m.\u001b[39;49m\u001b[43mget_loc\u001b[49m\u001b[43m(\u001b[49m\u001b[43mkey\u001b[49m\u001b[43m)\u001b[49m\n\u001b[1;32m   3894\u001b[0m \u001b[38;5;28;01mif\u001b[39;00m is_integer(indexer):\n\u001b[1;32m   3895\u001b[0m     indexer \u001b[38;5;241m=\u001b[39m [indexer]\n",
      "File \u001b[0;32m~/Desktop/git-repo/data-analysis/.venv/lib/python3.10/site-packages/pandas/core/indexes/base.py:3798\u001b[0m, in \u001b[0;36mIndex.get_loc\u001b[0;34m(self, key)\u001b[0m\n\u001b[1;32m   3793\u001b[0m     \u001b[38;5;28;01mif\u001b[39;00m \u001b[38;5;28misinstance\u001b[39m(casted_key, \u001b[38;5;28mslice\u001b[39m) \u001b[38;5;129;01mor\u001b[39;00m (\n\u001b[1;32m   3794\u001b[0m         \u001b[38;5;28misinstance\u001b[39m(casted_key, abc\u001b[38;5;241m.\u001b[39mIterable)\n\u001b[1;32m   3795\u001b[0m         \u001b[38;5;129;01mand\u001b[39;00m \u001b[38;5;28many\u001b[39m(\u001b[38;5;28misinstance\u001b[39m(x, \u001b[38;5;28mslice\u001b[39m) \u001b[38;5;28;01mfor\u001b[39;00m x \u001b[38;5;129;01min\u001b[39;00m casted_key)\n\u001b[1;32m   3796\u001b[0m     ):\n\u001b[1;32m   3797\u001b[0m         \u001b[38;5;28;01mraise\u001b[39;00m InvalidIndexError(key)\n\u001b[0;32m-> 3798\u001b[0m     \u001b[38;5;28;01mraise\u001b[39;00m \u001b[38;5;167;01mKeyError\u001b[39;00m(key) \u001b[38;5;28;01mfrom\u001b[39;00m \u001b[38;5;21;01merr\u001b[39;00m\n\u001b[1;32m   3799\u001b[0m \u001b[38;5;28;01mexcept\u001b[39;00m \u001b[38;5;167;01mTypeError\u001b[39;00m:\n\u001b[1;32m   3800\u001b[0m     \u001b[38;5;66;03m# If we have a listlike key, _check_indexing_error will raise\u001b[39;00m\n\u001b[1;32m   3801\u001b[0m     \u001b[38;5;66;03m#  InvalidIndexError. Otherwise we fall through and re-raise\u001b[39;00m\n\u001b[1;32m   3802\u001b[0m     \u001b[38;5;66;03m#  the TypeError.\u001b[39;00m\n\u001b[1;32m   3803\u001b[0m     \u001b[38;5;28mself\u001b[39m\u001b[38;5;241m.\u001b[39m_check_indexing_error(key)\n",
      "\u001b[0;31mKeyError\u001b[0m: 'کالای مصرفی'"
     ]
    }
   ],
   "source": [
    "df_alter = pd.read_excel('data/list alternative 1402-10-06 رنگ مایع.xlsx')\n",
    "# List of columns from df_alter to be added to df_output\n",
    "columns_to_add = ['alter_code_1', 'alter_code_2', 'alter_code_3', 'alter_code_4','alter_code_5']\n",
    "\n",
    "# # Perform the merge\n",
    "# df_output = pd.merge(df_output, df_alter[['main_code'] + columns_to_add], left_on='کالای مصرفی', right_on='main_code', how='left')\n",
    "\n",
    "# # Optionally, you can drop the 'main_code' column if it's not needed\n",
    "# df_output.drop(columns=['main_code'], inplace=True)\n",
    "\n",
    "for item in df_output['کالای مصرفی']:\n",
    "    if item in df_alter['کالای مصرفی'].values:\n",
    "        matching_row = df_alter[df_alter['کالای مصرفی'] == item][selected_columns]\n",
    "        df_output = pd.merge(df_output, matching_row, left_on='کالای مصرفی', right_index=True, how='left')\n"
   ]
  },
  {
   "cell_type": "code",
   "execution_count": null,
   "metadata": {},
   "outputs": [],
   "source": []
  },
  {
   "cell_type": "code",
   "execution_count": null,
   "metadata": {},
   "outputs": [
    {
     "data": {
      "text/plain": [
       "Index(['کد کالای محصول', 'کالای مصرفی', 'ضریب مصرف استاندارد', 'عنوان BOM',\n",
       "       'alter_code_1', 'alter_code_2', 'alter_code_3', 'alter_code_4',\n",
       "       'alter_code_5'],\n",
       "      dtype='object')"
      ]
     },
     "execution_count": 14,
     "metadata": {},
     "output_type": "execute_result"
    }
   ],
   "source": [
    "df_output.columns"
   ]
  },
  {
   "cell_type": "code",
   "execution_count": null,
   "metadata": {},
   "outputs": [],
   "source": [
    "df_change = pd.read_excel('data/code-change.xlsx')\n",
    "# Create a mapping dictionary from df_change\n",
    "change_dict = pd.Series(df_change['کد کالا'].values, index=df_change['مشخصه فنی']).to_dict()\n",
    "\n",
    "# List of columns in df_output to be updated\n",
    "columns_to_update = ['کالای مصرفی', 'alter_code_1', 'alter_code_2', 'alter_code_3', 'alter_code_4', 'alter_code_5']\n",
    "\n",
    "# Update the values in df_output based on the mapping\n",
    "for col in columns_to_update:\n",
    "    df_output[col] = df_output[col].map(change_dict).fillna(df_output[col])\n",
    "\n",
    "# Create a mapping dictionary from df_change\n",
    "change_dict = pd.Series(df_change['کد کالا'].values, index=df_change['مشخصه فنی']).to_dict()\n",
    "\n",
    "# Transform the 'کد کالای محصول' column and save it to a new column\n",
    "df_output['کد کالای محصول جدید'] = df_output['کد کالای محصول'].map(change_dict).fillna(df_output['کد کالای محصول'])\n",
    "\n",
    "df_output.to_excel('output.xlsx', index=False)"
   ]
  },
  {
   "cell_type": "code",
   "execution_count": null,
   "metadata": {},
   "outputs": [],
   "source": []
  }
 ],
 "metadata": {
  "kernelspec": {
   "display_name": "django-env",
   "language": "python",
   "name": "python3"
  },
  "language_info": {
   "codemirror_mode": {
    "name": "ipython",
    "version": 3
   },
   "file_extension": ".py",
   "mimetype": "text/x-python",
   "name": "python",
   "nbconvert_exporter": "python",
   "pygments_lexer": "ipython3",
   "version": "3.10.12"
  }
 },
 "nbformat": 4,
 "nbformat_minor": 2
}
